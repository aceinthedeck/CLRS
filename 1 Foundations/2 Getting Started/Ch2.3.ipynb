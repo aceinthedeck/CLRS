{
 "cells": [
  {
   "cell_type": "markdown",
   "metadata": {},
   "source": [
    "## 2.3 Merge Sort"
   ]
  },
  {
   "cell_type": "code",
   "execution_count": 5,
   "metadata": {
    "collapsed": false
   },
   "outputs": [
    {
     "name": "stdout",
     "output_type": "stream",
     "text": [
      "[10, 32, 2, 98, 43, 21, 56]\n",
      "[2, 10, 21, 32, 43, 56, 98]\n"
     ]
    }
   ],
   "source": [
    "\n",
    "\n",
    "def merge(a,b):\n",
    "   \n",
    "    c = []\n",
    "    while len(a) != 0 and len(b) != 0:\n",
    "        if a[0] < b[0]:\n",
    "            c.append(a[0])\n",
    "            a.remove(a[0])\n",
    "        else:\n",
    "            c.append(b[0])\n",
    "            b.remove(b[0])\n",
    "    if len(a) == 0:\n",
    "        c += b\n",
    "    else:\n",
    "        c += a\n",
    "    return c\n",
    "\n",
    "\n",
    "\n",
    "def mergesort(x):\n",
    "   \n",
    "    if len(x) == 0 or len(x) == 1:\n",
    "        return x\n",
    "    else:\n",
    "        middle = int(len(x)/2)\n",
    "        a = mergesort(x[:middle])\n",
    "        b = mergesort(x[middle:])\n",
    "        return merge(a,b)\n",
    "\n",
    "unsorted=[10,32,2,98,43,21,56]\n",
    "print(unsorted)\n",
    "print(mergesort(unsorted))\n"
   ]
  },
  {
   "cell_type": "markdown",
   "metadata": {
    "collapsed": true
   },
   "source": [
    "## 2.3-5 - Binary Search\n",
    "Referring back to the searching problem (see Exercise 2.1-3), observe that if the\n",
    "sequence A is sorted, we can check the midpoint of the sequence against v and\n",
    "eliminate half of the sequence from further consideration. The binary search al-\n",
    "gorithm repeats this procedure, halving the size of the remaining portion of the\n",
    "sequence each time. Write pseudocode, either iterative or recursive, for binary\n",
    "search. Argue that the worst-case running time of binary search is O(lg n)."
   ]
  },
  {
   "cell_type": "code",
   "execution_count": 7,
   "metadata": {
    "collapsed": false
   },
   "outputs": [
    {
     "name": "stdout",
     "output_type": "stream",
     "text": [
      "Number not found\n"
     ]
    }
   ],
   "source": [
    "def binarySearch(sortedArray,n):\n",
    "    length=len(sortedArray)\n",
    "    if(length==0):\n",
    "        return -1\n",
    "    mid=int(length/2)+1\n",
    "    if(n==sortedArray[mid]):\n",
    "        return mid\n",
    "    if(n<sortedArray[mid]):\n",
    "        return binarySearch(sortedArray[:mid],n)\n",
    "    else:\n",
    "        return binarySearch(sortedArray[mid+1:],n)\n",
    "    \n",
    "sortedArray=[2, 10, 21, 32, 43, 56, 98]\n",
    "number=42\n",
    "location=binarySearch(sortedArray,number)\n",
    "if(location!=-1):\n",
    "    print(number,\"found at\",location+1,\"location\")\n",
    "else:\n",
    "    print(\"Number not found\")"
   ]
  },
  {
   "cell_type": "code",
   "execution_count": null,
   "metadata": {
    "collapsed": true
   },
   "outputs": [],
   "source": []
  }
 ],
 "metadata": {
  "kernelspec": {
   "display_name": "Python 3",
   "language": "python",
   "name": "python3"
  },
  "language_info": {
   "codemirror_mode": {
    "name": "ipython",
    "version": 3
   },
   "file_extension": ".py",
   "mimetype": "text/x-python",
   "name": "python",
   "nbconvert_exporter": "python",
   "pygments_lexer": "ipython3",
   "version": "3.6.0"
  }
 },
 "nbformat": 4,
 "nbformat_minor": 2
}
