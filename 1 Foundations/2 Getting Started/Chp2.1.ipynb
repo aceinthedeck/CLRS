{
 "cells": [
  {
   "cell_type": "markdown",
   "metadata": {},
   "source": [
    "## 2.1 Insertion Sort\n",
    "\n",
    "a) Non Decreasing order"
   ]
  },
  {
   "cell_type": "code",
   "execution_count": 12,
   "metadata": {
    "collapsed": false
   },
   "outputs": [
    {
     "name": "stdout",
     "output_type": "stream",
     "text": [
      "[9, 10, 21, 23, 32, 34, 35, 45, 93]\n"
     ]
    }
   ],
   "source": [
    "array_to_sort=[10,9,32,45,21,35,34,93,23]\n",
    "\n",
    "for index in range(1,len(array_to_sort)):\n",
    "    currentItem=array_to_sort[index]\n",
    "    i=index-1\n",
    "    while i>=0 and array_to_sort[i]>currentItem:\n",
    "        array_to_sort[i+1]=array_to_sort[i]\n",
    "        i=i-1\n",
    "    array_to_sort[i+1]=currentItem\n",
    "    \n",
    "print(array_to_sort)\n",
    "    "
   ]
  },
  {
   "cell_type": "markdown",
   "metadata": {},
   "source": [
    "## Exercises\n",
    "2.1-2 Rewrite the INSERTION-SORT procedure to sort into nonincreasing instead of non-decreasing order."
   ]
  },
  {
   "cell_type": "code",
   "execution_count": 13,
   "metadata": {
    "collapsed": false
   },
   "outputs": [
    {
     "name": "stdout",
     "output_type": "stream",
     "text": [
      "[93, 45, 35, 34, 32, 23, 21, 10, 9]\n"
     ]
    }
   ],
   "source": [
    "array_to_sort=[10,9,32,45,21,35,34,93,23]\n",
    "\n",
    "for index in range(1,len(array_to_sort)):\n",
    "    currentItem=array_to_sort[index]\n",
    "    i=index-1\n",
    "    while i>=0 and array_to_sort[i]<currentItem:\n",
    "        array_to_sort[i+1]=array_to_sort[i]\n",
    "        i=i-1\n",
    "    array_to_sort[i+1]=currentItem\n",
    "    \n",
    "print(array_to_sort)"
   ]
  },
  {
   "cell_type": "markdown",
   "metadata": {},
   "source": [
    "2.1-3 Consider the searching problem:\n",
    "\n",
    "Input: A sequence of n numbers A=(a1,a2,a3...an) and a value v.\n",
    "\n",
    "Output: An index i such that v=A[i] or the special value NIL if v does not\n",
    "appear in A.\n",
    "\n",
    "Write pseudocode for linear search, which scans through the sequence, looking\n",
    "for v. Using a loop invariant, prove that your algorithm is correct. Make sure that\n",
    "your loop invariant fulfills the three necessary properties."
   ]
  },
  {
   "cell_type": "code",
   "execution_count": 20,
   "metadata": {
    "collapsed": false
   },
   "outputs": [
    {
     "name": "stdout",
     "output_type": "stream",
     "text": [
      "Item found at 8\n"
     ]
    }
   ],
   "source": [
    "array=[10,9,32,45,21,35,34,93,23]\n",
    "\n",
    "value_to_search=23\n",
    "index=0\n",
    "output=None\n",
    "\n",
    "for item in array:\n",
    "    if(item==value_to_search):\n",
    "        output=item\n",
    "        break;\n",
    "    index=index+1\n",
    "if(output is None):\n",
    "    print(\"Item is not found\")\n",
    "else:\n",
    "    print(\"Item found at\",index)"
   ]
  },
  {
   "cell_type": "markdown",
   "metadata": {},
   "source": [
    "2.1-4 Consider the problem of adding two n-bit binary integers, stored in two n-element\n",
    "arrays A and B. The sum of the two integers should be stored in binary form in an n+1 element array C . State the problem formally and write pseudocode for\n",
    "adding the two integers."
   ]
  },
  {
   "cell_type": "code",
   "execution_count": 55,
   "metadata": {
    "collapsed": false
   },
   "outputs": [
    {
     "name": "stdout",
     "output_type": "stream",
     "text": [
      "sum of two binary digits\n",
      "1100"
     ]
    }
   ],
   "source": [
    "binary1=[1,0,1]\n",
    "binary2=[1,1,1]\n",
    "\n",
    "binaryOutput=[0,0,0,0]\n",
    "carryForward=0\n",
    "\n",
    "for i in range(0,len(binary1)):\n",
    "    \n",
    "    afterAdd=binary1[i]+binary2[i]+carryForward\n",
    "    if(afterAdd>1):\n",
    "        binaryOutput[i]=afterAdd-2\n",
    "        carryForward=1\n",
    "    else:\n",
    "        binaryOutput[i]=afterAdd\n",
    "        carryForward=0\n",
    "if carryForward==1:\n",
    "    binaryOutput[len(binaryOutput)-1]=1\n",
    "\n",
    "print(\"sum of two binary digits\")\n",
    "for i in range(len(binaryOutput)-1,-1,-1):\n",
    "    print(binaryOutput[i],end=\"\")\n",
    "    \n",
    "    "
   ]
  },
  {
   "cell_type": "markdown",
   "metadata": {},
   "source": [
    "### Better solution (pseudo code via @louis1992 https://github.com/gzc)"
   ]
  },
  {
   "cell_type": "code",
   "execution_count": 62,
   "metadata": {
    "collapsed": false
   },
   "outputs": [
    {
     "name": "stdout",
     "output_type": "stream",
     "text": [
      "sum of two binary digits\n",
      "1100"
     ]
    }
   ],
   "source": [
    "binary1=[1,0,1]\n",
    "binary2=[1,1,1]\n",
    "\n",
    "binaryOutput=[0,0,0,0]\n",
    "carryForward=0\n",
    "\n",
    "for i in range(len(binary1)-1,-1,-1):\n",
    "    binaryOutput[i+1]=(binary1[i]+binary2[i]+carryForward)%2\n",
    "    carryForward=int((binary1[i]+binary2[i]+carryForward)/2)\n",
    "\n",
    "\n",
    "binaryOutput[i]=carryForward\n",
    "\n",
    "print(\"sum of two binary digits\")\n",
    "for i in range(0,len(binaryOutput)):\n",
    "   print(binaryOutput[i],end=\"\")"
   ]
  },
  {
   "cell_type": "code",
   "execution_count": null,
   "metadata": {
    "collapsed": true
   },
   "outputs": [],
   "source": []
  }
 ],
 "metadata": {
  "kernelspec": {
   "display_name": "Python 3",
   "language": "python",
   "name": "python3"
  },
  "language_info": {
   "codemirror_mode": {
    "name": "ipython",
    "version": 3
   },
   "file_extension": ".py",
   "mimetype": "text/x-python",
   "name": "python",
   "nbconvert_exporter": "python",
   "pygments_lexer": "ipython3",
   "version": "3.6.0"
  }
 },
 "nbformat": 4,
 "nbformat_minor": 2
}
